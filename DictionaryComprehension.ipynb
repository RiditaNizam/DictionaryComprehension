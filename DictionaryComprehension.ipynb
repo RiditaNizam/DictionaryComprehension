{
  "nbformat": 4,
  "nbformat_minor": 0,
  "metadata": {
    "colab": {
      "name": "DictionaryComprehension.ipynb",
      "provenance": [],
      "collapsed_sections": [],
      "mount_file_id": "1gR_4NgOOsrIm5p2U332BqlXi1kI-QfkT",
      "authorship_tag": "ABX9TyMUM6OJ6uOSJZlI/ptn3a/L",
      "include_colab_link": true
    },
    "kernelspec": {
      "name": "python3",
      "display_name": "Python 3"
    },
    "language_info": {
      "name": "python"
    }
  },
  "cells": [
    {
      "cell_type": "markdown",
      "metadata": {
        "id": "view-in-github",
        "colab_type": "text"
      },
      "source": [
        "<a href=\"https://colab.research.google.com/github/RiditaNizam/DictionaryComprehension/blob/main/DictionaryComprehension.ipynb\" target=\"_parent\"><img src=\"https://colab.research.google.com/assets/colab-badge.svg\" alt=\"Open In Colab\"/></a>"
      ]
    },
    {
      "cell_type": "code",
      "metadata": {
        "colab": {
          "base_uri": "https://localhost:8080/"
        },
        "id": "XO3BsTbsMS6u",
        "outputId": "cd19accd-44ef-41db-f347-c48469ca4b3b"
      },
      "source": [
        "sal_data_keys = [\"New York\", \"Los Angeles\", \"Boston\", \"Chicago\"] \n",
        "sal_data_values = [20000, 30000, 110000, 120000]\n",
        "\n",
        "sal_info = {}\n",
        "print(\"#### Creating a dictionary without using comprehension.\")\n",
        "for key, value in zip(sal_data_keys, sal_data_values):\n",
        "\tsal_info[key] = value\n",
        "print (sal_info)\n",
        "\n",
        "print(\"#### Filtering through the dictionary using comprehension.  These cities have values > 100000.\")\n",
        "sal_100k = {key:value for key, value in sal_info.items() if value > 100000}\n",
        "print(sal_100k)"
      ],
      "execution_count": 14,
      "outputs": [
        {
          "output_type": "stream",
          "text": [
            "#### Creating a dictionary without using comprehension.\n",
            "{'New York': 20000, 'Los Angeles': 30000, 'Boston': 110000, 'Chicago': 120000}\n",
            "#### Filtering through the dictionary using comprehension.  These cities have values > 100000.\n",
            "{'Boston': 110000, 'Chicago': 120000}\n"
          ],
          "name": "stdout"
        }
      ]
    }
  ]
}